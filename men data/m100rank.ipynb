{
 "cells": [
  {
   "cell_type": "code",
   "execution_count": 2,
   "metadata": {},
   "outputs": [],
   "source": [
    "import pandas as pd \n",
    "import numpy as np\n",
    "import matplotlib.pyplot as plt\n",
    "import seaborn as sns\n",
    "import plotly.express as px\n",
    "import plotly.graph_objects as go\n",
    "from plotly.subplots import make_subplots\n",
    "import plotly.figure_factory as ff\n"
   ]
  },
  {
   "cell_type": "code",
   "execution_count": 4,
   "metadata": {},
   "outputs": [
    {
     "name": "stdout",
     "output_type": "stream",
     "text": [
      "   rank  mark  wind                name  nat\n",
      "0     1  9.83   1.3      Zharnel HUGHES  GBR\n",
      "1     2  9.84  -0.5  Ferdinand OMANYALA  KEN\n",
      "2     3  9.88   1.5         Fred KERLEY  USA\n",
      "3     4  9.89   1.0        Ackeem BLAKE  JAM\n",
      "4     4  9.89   1.3         Pjai AUSTIN  USA\n"
     ]
    }
   ],
   "source": [
    "df = pd.read_csv('data/100M_Male.csv')\n",
    "print(df.head())"
   ]
  },
  {
   "cell_type": "code",
   "execution_count": 5,
   "metadata": {},
   "outputs": [
    {
     "name": "stdout",
     "output_type": "stream",
     "text": [
      "   rank  mark  wind                name  nat\n",
      "0     1  9.83   1.3      Zharnel HUGHES  GBR\n",
      "1     2  9.84  -0.5  Ferdinand OMANYALA  KEN\n",
      "2     3  9.88   1.5         Fred KERLEY  USA\n",
      "3     4  9.89   1.0        Ackeem BLAKE  JAM\n",
      "4     4  9.89   1.3         Pjai AUSTIN  USA\n"
     ]
    }
   ],
   "source": [
    "df = df.sort_values(by=['mark'], ascending=True)\n",
    "print(df.head())"
   ]
  },
  {
   "cell_type": "code",
   "execution_count": 10,
   "metadata": {},
   "outputs": [
    {
     "name": "stdout",
     "output_type": "stream",
     "text": [
      "    rank   mark  wind                name  nat\n",
      "0      1   9.83   1.3      Zharnel HUGHES  GBR\n",
      "1      2   9.84  -0.5  Ferdinand OMANYALA  KEN\n",
      "2      3   9.88   1.5         Fred KERLEY  USA\n",
      "3      4   9.89   1.0        Ackeem BLAKE  JAM\n",
      "4      4   9.89   1.3         Pjai AUSTIN  USA\n",
      "..   ...    ...   ...                 ...  ...\n",
      "93    93  10.13   0.9       Oshane BAILEY  JAM\n",
      "94    93  10.13   1.8        Femi OGUNODE  QAT\n",
      "95    93  10.13   1.5     Hiroki YANAGITA  JPN\n",
      "96    93  10.13   1.9        Rodney HEATH  USA\n",
      "99    93  10.13   0.0  Samuele CECCARELLI  ITA\n",
      "\n",
      "[100 rows x 5 columns]\n"
     ]
    }
   ],
   "source": [
    "df = df.sort_values(by=['rank'], ascending=True)    # rank is the column name'])\n",
    "print(df)"
   ]
  },
  {
   "cell_type": "code",
   "execution_count": 6,
   "metadata": {},
   "outputs": [
    {
     "data": {
      "image/png": "[encoded data removed]",
      "text/plain": [
       "<Figure size 432x288 with 1 Axes>"
      ]
     },
     "metadata": {
      "needs_background": "light"
     },
     "output_type": "display_data"
    }
   ],
   "source": [
    "import matplotlib.pyplot as plt\n",
    "\n",
    "# Create the scatter plot\n",
    "plt.scatter(df['mark'], df['wind'])\n",
    "\n",
    "# Set the labels for the x and y axes\n",
    "plt.xlabel('Mark (Time)')\n",
    "plt.ylabel('Wind')\n",
    "\n",
    "# Set the title of the plot\n",
    "plt.title('Sprinting Performance: Mark vs Wind')\n",
    "\n",
    "# Show the scatter plot\n",
    "plt.show()\n"
   ]
  },
  {
   "attachments": {},
   "cell_type": "markdown",
   "metadata": {},
   "source": [
    "## Median times"
   ]
  },
  {
   "cell_type": "code",
   "execution_count": 9,
   "metadata": {},
   "outputs": [
    {
     "name": "stderr",
     "output_type": "stream",
     "text": [
      "C:\\Users\\icefl\\AppData\\Local\\Temp\\ipykernel_584\\207934854.py:1: FutureWarning: Dropping of nuisance columns in DataFrame reductions (with 'numeric_only=None') is deprecated; in a future version this will raise TypeError.  Select only valid columns before calling the reduction.\n",
      "  df.median(axis = 0, skipna = True, level=None, numeric_only=None)\n"
     ]
    },
    {
     "data": {
      "image/png": "[encoded data removed]",
      "text/plain": [
       "<Figure size 432x288 with 1 Axes>"
      ]
     },
     "metadata": {
      "needs_background": "light"
     },
     "output_type": "display_data"
    }
   ],
   "source": [
    "df.median(axis = 0, skipna = True, level=None, numeric_only=None)\n",
    "sns.boxplot(x=df['mark'])\n",
    "plt.show()\n"
   ]
  },
  {
   "attachments": {},
   "cell_type": "markdown",
   "metadata": {},
   "source": []
  },
  {
   "cell_type": "code",
   "execution_count": null,
   "metadata": {},
   "outputs": [],
   "source": []
  }
 ],
 "metadata": {
  "kernelspec": {
   "display_name": "Python 3",
   "language": "python",
   "name": "python3"
  },
  "language_info": {
   "codemirror_mode": {
    "name": "ipython",
    "version": 3
   },
   "file_extension": ".py",
   "mimetype": "text/x-python",
   "name": "python",
   "nbconvert_exporter": "python",
   "pygments_lexer": "ipython3",
   "version": "3.10.0"
  },
  "orig_nbformat": 4
 },
 "nbformat": 4,
 "nbformat_minor": 2
}
