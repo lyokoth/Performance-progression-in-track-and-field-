{
 "cells": [
  {
   "cell_type": "code",
   "execution_count": 2,
   "metadata": {},
   "outputs": [],
   "source": [
    "import pandas as pd \n",
    "import numpy as np\n",
    "import matplotlib.pyplot as plt\n",
    "import seaborn as sns\n",
    "import plotly.express as px\n",
    "import plotly.graph_objects as go\n",
    "from plotly.subplots import make_subplots\n",
    "import plotly.figure_factory as ff\n"
   ]
  },
  {
   "cell_type": "code",
   "execution_count": 3,
   "metadata": {},
   "outputs": [
    {
     "name": "stdout",
     "output_type": "stream",
     "text": [
      "   rank  mark  wind                name  nat\n",
      "0     1  9.83   1.3      Zharnel HUGHES  GBR\n",
      "1     2  9.84  -0.5  Ferdinand OMANYALA  KEN\n",
      "2     3  9.88   1.5         Fred KERLEY  USA\n",
      "3     4  9.89   1.0        Ackeem BLAKE  JAM\n",
      "4     4  9.89   1.3         Pjai AUSTIN  USA\n"
     ]
    }
   ],
   "source": [
    "df = pd.read_csv('100M_Male.csv')\n",
    "print(df.head())"
   ]
  },
  {
   "cell_type": "code",
   "execution_count": 4,
   "metadata": {},
   "outputs": [
    {
     "name": "stdout",
     "output_type": "stream",
     "text": [
      "   rank  mark  wind                name  nat\n",
      "0     1  9.83   1.3      Zharnel HUGHES  GBR\n",
      "1     2  9.84  -0.5  Ferdinand OMANYALA  KEN\n",
      "2     3  9.88   1.5         Fred KERLEY  USA\n",
      "3     4  9.89   1.0        Ackeem BLAKE  JAM\n",
      "4     4  9.89   1.3         Pjai AUSTIN  USA\n"
     ]
    }
   ],
   "source": [
    "df = df.sort_values(by=['mark'], ascending=True)\n",
    "print(df.head())"
   ]
  },
  {
   "cell_type": "code",
   "execution_count": 5,
   "metadata": {},
   "outputs": [
    {
     "data": {
      "image/png": "[encoded data removed]",
      "text/plain": [
       "<Figure size 432x288 with 1 Axes>"
      ]
     },
     "metadata": {
      "needs_background": "light"
     },
     "output_type": "display_data"
    }
   ],
   "source": [
    "import matplotlib.pyplot as plt\n",
    "\n",
    "# Create the scatter plot\n",
    "plt.scatter(df['mark'], df['wind'])\n",
    "\n",
    "# Set the labels for the x and y axes\n",
    "plt.xlabel('Mark (Time)')\n",
    "plt.ylabel('Wind')\n",
    "\n",
    "# Set the title of the plot\n",
    "plt.title('Sprinting Performance: Mark vs Wind')\n",
    "\n",
    "# Show the scatter plot\n",
    "plt.show()\n"
   ]
  },
  {
   "cell_type": "code",
   "execution_count": 7,
   "metadata": {},
   "outputs": [
    {
     "name": "stderr",
     "output_type": "stream",
     "text": [
      "C:\\Users\\icefl\\AppData\\Local\\Temp\\ipykernel_84896\\917010084.py:2: UserWarning: \n",
      "\n",
      "`distplot` is a deprecated function and will be removed in seaborn v0.14.0.\n",
      "\n",
      "Please adapt your code to use either `displot` (a figure-level function with\n",
      "similar flexibility) or `histplot` (an axes-level function for histograms).\n",
      "\n",
      "For a guide to updating your code to use the new functions, please see\n",
      "https://gist.github.com/mwaskom/de44147ed2974457ad6372750bbe5751\n",
      "\n",
      "  sns.distplot(df['mark'], kde=False, bins=30)\n"
     ]
    },
    {
     "data": {
      "image/png": "[encoded data removed]",
      "text/plain": [
       "<Figure size 432x288 with 1 Axes>"
      ]
     },
     "metadata": {},
     "output_type": "display_data"
    }
   ],
   "source": [
    "sns.set_style('whitegrid')\n",
    "sns.distplot(df['mark'], kde=False, bins=30)\n",
    "plt.show()\n"
   ]
  }
 ],
 "metadata": {
  "kernelspec": {
   "display_name": "Python 3",
   "language": "python",
   "name": "python3"
  },
  "language_info": {
   "codemirror_mode": {
    "name": "ipython",
    "version": 3
   },
   "file_extension": ".py",
   "mimetype": "text/x-python",
   "name": "python",
   "nbconvert_exporter": "python",
   "pygments_lexer": "ipython3",
   "version": "3.10.0"
  },
  "orig_nbformat": 4
 },
 "nbformat": 4,
 "nbformat_minor": 2
}
