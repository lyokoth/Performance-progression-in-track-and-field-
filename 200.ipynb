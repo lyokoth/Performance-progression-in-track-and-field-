{
 "cells": [
  {
   "cell_type": "code",
   "execution_count": 2,
   "metadata": {},
   "outputs": [],
   "source": [
    "import pandas as pd \n",
    "import numpy as np\n",
    "import matplotlib.pyplot as plt\n",
    "import seaborn as sns\n",
    "import plotly.express as px\n",
    "import plotly.graph_objects as go\n",
    "from plotly.subplots import make_subplots\n",
    "import plotly.figure_factory as ff"
   ]
  },
  {
   "cell_type": "code",
   "execution_count": 3,
   "metadata": {},
   "outputs": [
    {
     "data": {
      "text/html": [
       "<div>\n",
       "<style scoped>\n",
       "    .dataframe tbody tr th:only-of-type {\n",
       "        vertical-align: middle;\n",
       "    }\n",
       "\n",
       "    .dataframe tbody tr th {\n",
       "        vertical-align: top;\n",
       "    }\n",
       "\n",
       "    .dataframe thead th {\n",
       "        text-align: right;\n",
       "    }\n",
       "</style>\n",
       "<table border=\"1\" class=\"dataframe\">\n",
       "  <thead>\n",
       "    <tr style=\"text-align: right;\">\n",
       "      <th></th>\n",
       "      <th>rank</th>\n",
       "      <th>mark</th>\n",
       "      <th>wind</th>\n",
       "      <th>name</th>\n",
       "      <th>nat</th>\n",
       "    </tr>\n",
       "  </thead>\n",
       "  <tbody>\n",
       "    <tr>\n",
       "      <th>0</th>\n",
       "      <td>1</td>\n",
       "      <td>19.67</td>\n",
       "      <td>0.3</td>\n",
       "      <td>Noah LYLES</td>\n",
       "      <td>USA</td>\n",
       "    </tr>\n",
       "    <tr>\n",
       "      <th>1</th>\n",
       "      <td>2</td>\n",
       "      <td>19.76</td>\n",
       "      <td>0.6</td>\n",
       "      <td>Udodi Chudi ONWUZURIKE</td>\n",
       "      <td>NGR</td>\n",
       "    </tr>\n",
       "    <tr>\n",
       "      <th>2</th>\n",
       "      <td>3</td>\n",
       "      <td>19.77</td>\n",
       "      <td>0.6</td>\n",
       "      <td>Erriyon KNIGHTON</td>\n",
       "      <td>USA</td>\n",
       "    </tr>\n",
       "    <tr>\n",
       "      <th>3</th>\n",
       "      <td>4</td>\n",
       "      <td>19.79</td>\n",
       "      <td>1.3</td>\n",
       "      <td>James DADZIE</td>\n",
       "      <td>GHA</td>\n",
       "    </tr>\n",
       "    <tr>\n",
       "      <th>4</th>\n",
       "      <td>5</td>\n",
       "      <td>19.86</td>\n",
       "      <td>0.9</td>\n",
       "      <td>Courtney LINDSEY</td>\n",
       "      <td>USA</td>\n",
       "    </tr>\n",
       "  </tbody>\n",
       "</table>\n",
       "</div>"
      ],
      "text/plain": [
       "   rank   mark  wind                    name  nat\n",
       "0     1  19.67   0.3              Noah LYLES  USA\n",
       "1     2  19.76   0.6  Udodi Chudi ONWUZURIKE  NGR\n",
       "2     3  19.77   0.6        Erriyon KNIGHTON  USA\n",
       "3     4  19.79   1.3            James DADZIE  GHA\n",
       "4     5  19.86   0.9        Courtney LINDSEY  USA"
      ]
     },
     "execution_count": 3,
     "metadata": {},
     "output_type": "execute_result"
    }
   ],
   "source": [
    "df = pd.read_csv('data/200M_Male.csv')\n",
    "df.head()"
   ]
  },
  {
   "cell_type": "code",
   "execution_count": 4,
   "metadata": {},
   "outputs": [
    {
     "data": {
      "text/plain": [
       "USA    36\n",
       "RSA     8\n",
       "JPN     4\n",
       "NGR     4\n",
       "DOM     4\n",
       "GBR     4\n",
       "CAN     4\n",
       "TTO     4\n",
       "BAH     3\n",
       "LBR     2\n",
       "JAM     2\n",
       "ZIM     2\n",
       "FRA     2\n",
       "BOT     2\n",
       "GHA     2\n",
       "TPE     1\n",
       "PAR     1\n",
       "CHN     1\n",
       "CMR     1\n",
       "AUS     1\n",
       "SWE     1\n",
       "LCA     1\n",
       "BRA     1\n",
       "GER     1\n",
       "NED     1\n",
       "GRN     1\n",
       "CIV     1\n",
       "ITA     1\n",
       "SUR     1\n",
       "CUB     1\n",
       "UGA     1\n",
       "SKN     1\n",
       "Name: nat, dtype: int64"
      ]
     },
     "execution_count": 4,
     "metadata": {},
     "output_type": "execute_result"
    }
   ],
   "source": [
    "df['nat'].value_counts()\n"
   ]
  },
  {
   "cell_type": "code",
   "execution_count": null,
   "metadata": {},
   "outputs": [],
   "source": []
  },
  {
   "cell_type": "code",
   "execution_count": 8,
   "metadata": {},
   "outputs": [
    {
     "data": {
      "image/png": "[encoded data removed]",
      "text/plain": [
       "<Figure size 432x288 with 1 Axes>"
      ]
     },
     "metadata": {
      "needs_background": "light"
     },
     "output_type": "display_data"
    }
   ],
   "source": [
    "plt.scatter(df['rank'], df['mark'])\n",
    "plt.xlabel('rank')\n",
    "plt.ylabel('mark')\n",
    "plt.show()"
   ]
  }
 ],
 "metadata": {
  "kernelspec": {
   "display_name": "Python 3",
   "language": "python",
   "name": "python3"
  },
  "language_info": {
   "codemirror_mode": {
    "name": "ipython",
    "version": 3
   },
   "file_extension": ".py",
   "mimetype": "text/x-python",
   "name": "python",
   "nbconvert_exporter": "python",
   "pygments_lexer": "ipython3",
   "version": "3.10.0"
  },
  "orig_nbformat": 4
 },
 "nbformat": 4,
 "nbformat_minor": 2
}
